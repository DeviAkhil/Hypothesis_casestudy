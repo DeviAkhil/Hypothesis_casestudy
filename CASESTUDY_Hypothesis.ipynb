{
 "cells": [
  {
   "cell_type": "code",
   "execution_count": 1,
   "id": "81a5c5d6-1274-4689-aad6-0404dad053d3",
   "metadata": {},
   "outputs": [],
   "source": [
    "import pandas as pd\n",
    "import numpy as np\n",
    "import matplotlib.pyplot as plt\n",
    "import seaborn as sns"
   ]
  },
  {
   "cell_type": "code",
   "execution_count": 37,
   "id": "a27fa530-edf2-40b1-b38e-15543d4f3ac5",
   "metadata": {},
   "outputs": [
    {
     "data": {
      "text/html": [
       "<div>\n",
       "<style scoped>\n",
       "    .dataframe tbody tr th:only-of-type {\n",
       "        vertical-align: middle;\n",
       "    }\n",
       "\n",
       "    .dataframe tbody tr th {\n",
       "        vertical-align: top;\n",
       "    }\n",
       "\n",
       "    .dataframe thead th {\n",
       "        text-align: right;\n",
       "    }\n",
       "</style>\n",
       "<table border=\"1\" class=\"dataframe\">\n",
       "  <thead>\n",
       "    <tr style=\"text-align: right;\">\n",
       "      <th></th>\n",
       "      <th>Month</th>\n",
       "      <th>Region</th>\n",
       "      <th>Manager</th>\n",
       "      <th>Sales_before_digital_add(in $)</th>\n",
       "      <th>Sales_After_digital_add(in $)</th>\n",
       "    </tr>\n",
       "  </thead>\n",
       "  <tbody>\n",
       "    <tr>\n",
       "      <th>0</th>\n",
       "      <td>Month-1</td>\n",
       "      <td>Region - A</td>\n",
       "      <td>Manager - A</td>\n",
       "      <td>132921</td>\n",
       "      <td>270390</td>\n",
       "    </tr>\n",
       "    <tr>\n",
       "      <th>1</th>\n",
       "      <td>Month-2</td>\n",
       "      <td>Region - A</td>\n",
       "      <td>Manager - C</td>\n",
       "      <td>149559</td>\n",
       "      <td>223334</td>\n",
       "    </tr>\n",
       "    <tr>\n",
       "      <th>2</th>\n",
       "      <td>Month-3</td>\n",
       "      <td>Region - B</td>\n",
       "      <td>Manager - A</td>\n",
       "      <td>146278</td>\n",
       "      <td>244243</td>\n",
       "    </tr>\n",
       "    <tr>\n",
       "      <th>3</th>\n",
       "      <td>Month-4</td>\n",
       "      <td>Region - B</td>\n",
       "      <td>Manager - B</td>\n",
       "      <td>152167</td>\n",
       "      <td>231808</td>\n",
       "    </tr>\n",
       "    <tr>\n",
       "      <th>4</th>\n",
       "      <td>Month-5</td>\n",
       "      <td>Region - C</td>\n",
       "      <td>Manager - B</td>\n",
       "      <td>159525</td>\n",
       "      <td>258402</td>\n",
       "    </tr>\n",
       "  </tbody>\n",
       "</table>\n",
       "</div>"
      ],
      "text/plain": [
       "     Month      Region      Manager  Sales_before_digital_add(in $)  \\\n",
       "0  Month-1  Region - A  Manager - A                          132921   \n",
       "1  Month-2  Region - A  Manager - C                          149559   \n",
       "2  Month-3  Region - B  Manager - A                          146278   \n",
       "3  Month-4  Region - B  Manager - B                          152167   \n",
       "4  Month-5  Region - C  Manager - B                          159525   \n",
       "\n",
       "   Sales_After_digital_add(in $)  \n",
       "0                         270390  \n",
       "1                         223334  \n",
       "2                         244243  \n",
       "3                         231808  \n",
       "4                         258402  "
      ]
     },
     "execution_count": 37,
     "metadata": {},
     "output_type": "execute_result"
    }
   ],
   "source": [
    "data=pd.read_csv(r'D:\\Devi\\ICT_TVM\\CASE STUDY\\Sales_add.csv')\n",
    "data.head()"
   ]
  },
  {
   "cell_type": "code",
   "execution_count": 5,
   "id": "661312d8-050f-4264-b66b-4f07c9c471e0",
   "metadata": {},
   "outputs": [
    {
     "data": {
      "text/plain": [
       "Month                             0\n",
       "Region                            0\n",
       "Manager                           0\n",
       "Sales_before_digital_add(in $)    0\n",
       "Sales_After_digital_add(in $)     0\n",
       "dtype: int64"
      ]
     },
     "execution_count": 5,
     "metadata": {},
     "output_type": "execute_result"
    }
   ],
   "source": [
    "# checking for null data in the dataset\n",
    "nullData=data.isnull()\n",
    "nullSum=nullData.sum()\n",
    "nullSum"
   ]
  },
  {
   "cell_type": "markdown",
   "id": "40b92026-0f8f-4f52-8b5a-def87535f539",
   "metadata": {},
   "source": [
    "## The company wishes to clarify whether there is any increase in sales after stepping into digital marketing.\n"
   ]
  },
  {
   "cell_type": "markdown",
   "id": "1733a401-c38f-4568-8ffa-3a0be81ac1e3",
   "metadata": {},
   "source": [
    "### Setting Hypothesis"
   ]
  },
  {
   "cell_type": "markdown",
   "id": "19d32d0e-8c22-4c6c-b6f0-ec00ab46e93d",
   "metadata": {},
   "source": [
    "H0: There is no difference in sale before and after stepping into digital marketing"
   ]
  },
  {
   "cell_type": "markdown",
   "id": "554a9c40-2e69-4685-bee9-05c78ba64887",
   "metadata": {},
   "source": [
    "H1: There is difference in sale before and after stepping into digital marketing"
   ]
  },
  {
   "cell_type": "code",
   "execution_count": 14,
   "id": "e82ecb53-e0c9-451e-893c-fb5d6992c07d",
   "metadata": {},
   "outputs": [],
   "source": [
    "b_sales=data['Sales_before_digital_add(in $)']\n",
    "a_sales=data['Sales_After_digital_add(in $)']\n",
    "alpha=.05"
   ]
  },
  {
   "cell_type": "code",
   "execution_count": 15,
   "id": "b0387d32-5fdb-4c44-9f1d-75e366faa99a",
   "metadata": {},
   "outputs": [],
   "source": [
    "# import ttset module\n",
    "from scipy.stats import ttest_ind\n"
   ]
  },
  {
   "cell_type": "code",
   "execution_count": 16,
   "id": "81edf3af-77a7-4d8d-b1ec-28b5bc52ee41",
   "metadata": {},
   "outputs": [
    {
     "name": "stdout",
     "output_type": "stream",
     "text": [
      "p value : 2.614368006904645e-16\n",
      "Reject H0\n"
     ]
    }
   ],
   "source": [
    "_,p = ttest_ind(b_sales,a_sales)\n",
    "print(\"p value :\", p)\n",
    "if p < alpha:\n",
    "    print(\"Reject H0\")\n",
    "else:\n",
    "    print(\"Fail to reject H0.\")"
   ]
  },
  {
   "cell_type": "markdown",
   "id": "7dd348b0-d698-4d03-916f-a5baa2ccb23c",
   "metadata": {},
   "source": [
    "The P value is greater than alpha ie we can reject H0. From this we can accept the alternative Hypothesis ie there is significant change in sale after entering into digital marketing"
   ]
  },
  {
   "cell_type": "markdown",
   "id": "0a21eb88-1516-4eea-b608-139dd0a3d41f",
   "metadata": {},
   "source": [
    "## The company needs to check whether there is any dependency between the features “Region” and “Manager”."
   ]
  },
  {
   "cell_type": "markdown",
   "id": "c35ecdef-b1db-40f7-8e42-15772095ce33",
   "metadata": {},
   "source": [
    "H0 : Manager and Region are independant on each other"
   ]
  },
  {
   "cell_type": "markdown",
   "id": "caf5e620-977e-4e0f-ba95-58a528823a3c",
   "metadata": {},
   "source": [
    "H1 : Manager and Region depends upon each other"
   ]
  },
  {
   "cell_type": "code",
   "execution_count": 65,
   "id": "57971ffa-bdad-481b-ab91-cd5630551f71",
   "metadata": {},
   "outputs": [],
   "source": [
    "data_m=data['Manager']\n",
    "data_r=data['Region']"
   ]
  },
  {
   "cell_type": "code",
   "execution_count": 66,
   "id": "66c12ab6-1f1f-40ef-bc61-588b1d5ee030",
   "metadata": {},
   "outputs": [
    {
     "data": {
      "text/html": [
       "<div>\n",
       "<style scoped>\n",
       "    .dataframe tbody tr th:only-of-type {\n",
       "        vertical-align: middle;\n",
       "    }\n",
       "\n",
       "    .dataframe tbody tr th {\n",
       "        vertical-align: top;\n",
       "    }\n",
       "\n",
       "    .dataframe thead th {\n",
       "        text-align: right;\n",
       "    }\n",
       "</style>\n",
       "<table border=\"1\" class=\"dataframe\">\n",
       "  <thead>\n",
       "    <tr style=\"text-align: right;\">\n",
       "      <th>Region</th>\n",
       "      <th>Region - A</th>\n",
       "      <th>Region - B</th>\n",
       "      <th>Region - C</th>\n",
       "    </tr>\n",
       "    <tr>\n",
       "      <th>Manager</th>\n",
       "      <th></th>\n",
       "      <th></th>\n",
       "      <th></th>\n",
       "    </tr>\n",
       "  </thead>\n",
       "  <tbody>\n",
       "    <tr>\n",
       "      <th>Manager - A</th>\n",
       "      <td>4</td>\n",
       "      <td>4</td>\n",
       "      <td>1</td>\n",
       "    </tr>\n",
       "    <tr>\n",
       "      <th>Manager - B</th>\n",
       "      <td>3</td>\n",
       "      <td>1</td>\n",
       "      <td>3</td>\n",
       "    </tr>\n",
       "    <tr>\n",
       "      <th>Manager - C</th>\n",
       "      <td>3</td>\n",
       "      <td>2</td>\n",
       "      <td>1</td>\n",
       "    </tr>\n",
       "  </tbody>\n",
       "</table>\n",
       "</div>"
      ],
      "text/plain": [
       "Region       Region - A  Region - B  Region - C\n",
       "Manager                                        \n",
       "Manager - A           4           4           1\n",
       "Manager - B           3           1           3\n",
       "Manager - C           3           2           1"
      ]
     },
     "execution_count": 66,
     "metadata": {},
     "output_type": "execute_result"
    }
   ],
   "source": [
    "dfcrosstable=pd.crosstab(data_m,data_r)\n",
    "dfcrosstable"
   ]
  },
  {
   "cell_type": "code",
   "execution_count": 67,
   "id": "d4838bfc-92e5-4c2f-a86f-6d161500582a",
   "metadata": {},
   "outputs": [
    {
     "name": "stdout",
     "output_type": "stream",
     "text": [
      "p value is 0.5493991051158094\n",
      "Independent (H0 holds true)\n"
     ]
    }
   ],
   "source": [
    "\n",
    "from scipy.stats import chi2_contingency\n",
    "  \n",
    "# defining the table\n",
    "\n",
    "stat, p, dof, expected = chi2_contingency(dfcrosstable)\n",
    "  \n",
    "# interpret p-value\n",
    "alpha = 0.05\n",
    "print(\"p value is \" + str(p))\n",
    "if p <= alpha:\n",
    "    print('Dependent (reject H0)')\n",
    "else:\n",
    "    print('Independent (H0 holds true)')"
   ]
  },
  {
   "cell_type": "markdown",
   "id": "fe492101-7082-4197-a06d-019f8a408d66",
   "metadata": {},
   "source": [
    "P value is greater than alpha so we can accept the null hypothesis, ie Managers and Regions are independant on each other"
   ]
  },
  {
   "cell_type": "code",
   "execution_count": 64,
   "id": "c1e82238-fd7e-4da1-8edc-4bfda617b28e",
   "metadata": {},
   "outputs": [
    {
     "name": "stderr",
     "output_type": "stream",
     "text": [
      "C:\\Users\\Akhil\\AppData\\Local\\Temp\\ipykernel_18948\\2186013142.py:1: FutureWarning: Indexing with multiple keys (implicitly converted to a tuple of keys) will be deprecated, use a list instead.\n",
      "  new=data.groupby(by= ['Manager','Region'])['Sales_before_digital_add(in $)','Sales_After_digital_add(in $)'].mean().plot(kind ='bar')\n"
     ]
    },
    {
     "data": {
      "image/png": "[encoded data removed]",
      "text/plain": [
       "<Figure size 432x288 with 1 Axes>"
      ]
     },
     "metadata": {
      "needs_background": "light"
     },
     "output_type": "display_data"
    },
    {
     "data": {
      "text/plain": [
       "<Figure size 1440x1440 with 0 Axes>"
      ]
     },
     "metadata": {},
     "output_type": "display_data"
    }
   ],
   "source": [
    "\n",
    "new=data.groupby(by= ['Manager','Region'])['Sales_before_digital_add(in $)','Sales_After_digital_add(in $)'].mean().plot(kind ='bar')\n",
    "plt.figure(figsize=(20,20))\n",
    "plt.show()"
   ]
  },
  {
   "cell_type": "code",
   "execution_count": null,
   "id": "294b9fb6-2e96-47c2-a50e-0f94ae5ae590",
   "metadata": {},
   "outputs": [],
   "source": []
  },
  {
   "cell_type": "code",
   "execution_count": null,
   "id": "c3fcb807-04a8-4107-b5c5-f7734c30e60d",
   "metadata": {},
   "outputs": [],
   "source": []
  }
 ],
 "metadata": {
  "kernelspec": {
   "display_name": "Python 3 (ipykernel)",
   "language": "python",
   "name": "python3"
  },
  "language_info": {
   "codemirror_mode": {
    "name": "ipython",
    "version": 3
   },
   "file_extension": ".py",
   "mimetype": "text/x-python",
   "name": "python",
   "nbconvert_exporter": "python",
   "pygments_lexer": "ipython3",
   "version": "3.9.12"
  }
 },
 "nbformat": 4,
 "nbformat_minor": 5
}
